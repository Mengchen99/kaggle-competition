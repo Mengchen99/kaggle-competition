{
 "cells": [
  {
   "cell_type": "code",
   "execution_count": 351,
   "metadata": {
    "id": "wRQNQK8J_3_I"
   },
   "outputs": [],
   "source": []
  },
  {
   "cell_type": "code",
   "execution_count": 352,
   "metadata": {
    "colab": {
     "base_uri": "https://localhost:8080/"
    },
    "id": "1LPXcD5s_5a3",
    "outputId": "f85b1e09-ba1f-45df-f3ca-d07b243d5d77"
   },
   "outputs": [
    {
     "name": "stdout",
     "output_type": "stream",
     "text": [
      "Drive already mounted at /content/drive; to attempt to forcibly remount, call drive.mount(\"/content/drive\", force_remount=True).\n"
     ]
    }
   ],
   "source": [
    "from google.colab import drive\n",
    "drive.mount('/content/drive')"
   ]
  },
  {
   "cell_type": "code",
   "execution_count": 353,
   "metadata": {
    "id": "f9129e0b"
   },
   "outputs": [],
   "source": [
    "import os\n",
    "from keras import layers\n",
    "from keras import models\n",
    "from keras import optimizers\n",
    "\n",
    "from sklearn.preprocessing import MinMaxScaler\n",
    "import pandas as pd\n",
    "import numpy as np\n",
    "from sklearn.preprocessing import StandardScaler\n",
    "\n",
    "\n",
    "scaler = StandardScaler()\n",
    "data=pd.read_csv(\"/content/drive/MyDrive/LmcKaggle/train-2.csv\",header=0)\n"
   ]
  },
  {
   "cell_type": "code",
   "execution_count": 354,
   "metadata": {
    "colab": {
     "base_uri": "https://localhost:8080/"
    },
    "id": "383afefd",
    "outputId": "85e39706-3511-4d20-eb03-4e03e8502cf9"
   },
   "outputs": [
    {
     "name": "stdout",
     "output_type": "stream",
     "text": [
      "id                          False\n",
      "MO HLADR+ MFI (cells/ul)     True\n",
      "Neu CD64+MFI (cells/ul)      True\n",
      "CD3+T (cells/ul)            False\n",
      "CD8+T (cells/ul)            False\n",
      "CD4+T (cells/ul)            False\n",
      "NK (cells/ul)               False\n",
      "CD19+ (cells/ul)            False\n",
      "CD45+ (cells/ul)            False\n",
      "Age                         False\n",
      "Sex 0M1F                    False\n",
      "Mono CD64+MFI (cells/ul)     True\n",
      "label                       False\n",
      "dtype: bool\n"
     ]
    }
   ],
   "source": [
    "print(np.isnan(data).any())"
   ]
  },
  {
   "cell_type": "code",
   "execution_count": 355,
   "metadata": {
    "colab": {
     "base_uri": "https://localhost:8080/",
     "height": 485
    },
    "id": "7bd57968",
    "outputId": "ee17110e-751f-402e-edde-c13a86956cfb"
   },
   "outputs": [
    {
     "data": {
      "text/html": [
       "\n",
       "  <div id=\"df-566df4df-d88d-4a27-ba89-b4e7c1a581db\">\n",
       "    <div class=\"colab-df-container\">\n",
       "      <div>\n",
       "<style scoped>\n",
       "    .dataframe tbody tr th:only-of-type {\n",
       "        vertical-align: middle;\n",
       "    }\n",
       "\n",
       "    .dataframe tbody tr th {\n",
       "        vertical-align: top;\n",
       "    }\n",
       "\n",
       "    .dataframe thead th {\n",
       "        text-align: right;\n",
       "    }\n",
       "</style>\n",
       "<table border=\"1\" class=\"dataframe\">\n",
       "  <thead>\n",
       "    <tr style=\"text-align: right;\">\n",
       "      <th></th>\n",
       "      <th>id</th>\n",
       "      <th>MO HLADR+ MFI (cells/ul)</th>\n",
       "      <th>Neu CD64+MFI (cells/ul)</th>\n",
       "      <th>CD3+T (cells/ul)</th>\n",
       "      <th>CD8+T (cells/ul)</th>\n",
       "      <th>CD4+T (cells/ul)</th>\n",
       "      <th>NK (cells/ul)</th>\n",
       "      <th>CD19+ (cells/ul)</th>\n",
       "      <th>CD45+ (cells/ul)</th>\n",
       "      <th>Age</th>\n",
       "      <th>Sex 0M1F</th>\n",
       "      <th>Mono CD64+MFI (cells/ul)</th>\n",
       "      <th>label</th>\n",
       "    </tr>\n",
       "  </thead>\n",
       "  <tbody>\n",
       "    <tr>\n",
       "      <th>0</th>\n",
       "      <td>0</td>\n",
       "      <td>3556.0</td>\n",
       "      <td>2489.0</td>\n",
       "      <td>265.19</td>\n",
       "      <td>77.53</td>\n",
       "      <td>176.55</td>\n",
       "      <td>0.00</td>\n",
       "      <td>4.20</td>\n",
       "      <td>307.91</td>\n",
       "      <td>52</td>\n",
       "      <td>0</td>\n",
       "      <td>7515.0</td>\n",
       "      <td>1</td>\n",
       "    </tr>\n",
       "    <tr>\n",
       "      <th>1</th>\n",
       "      <td>1</td>\n",
       "      <td>1906.0</td>\n",
       "      <td>134.0</td>\n",
       "      <td>1442.61</td>\n",
       "      <td>551.90</td>\n",
       "      <td>876.07</td>\n",
       "      <td>112.10</td>\n",
       "      <td>168.15</td>\n",
       "      <td>1735.48</td>\n",
       "      <td>20</td>\n",
       "      <td>1</td>\n",
       "      <td>1756.0</td>\n",
       "      <td>0</td>\n",
       "    </tr>\n",
       "    <tr>\n",
       "      <th>2</th>\n",
       "      <td>2</td>\n",
       "      <td>1586.0</td>\n",
       "      <td>71.0</td>\n",
       "      <td>1332.74</td>\n",
       "      <td>684.20</td>\n",
       "      <td>655.26</td>\n",
       "      <td>244.95</td>\n",
       "      <td>216.52</td>\n",
       "      <td>1820.04</td>\n",
       "      <td>28</td>\n",
       "      <td>1</td>\n",
       "      <td>1311.0</td>\n",
       "      <td>0</td>\n",
       "    </tr>\n",
       "    <tr>\n",
       "      <th>3</th>\n",
       "      <td>3</td>\n",
       "      <td>683.0</td>\n",
       "      <td>94.0</td>\n",
       "      <td>419.23</td>\n",
       "      <td>255.80</td>\n",
       "      <td>162.17</td>\n",
       "      <td>72.05</td>\n",
       "      <td>44.68</td>\n",
       "      <td>538.22</td>\n",
       "      <td>55</td>\n",
       "      <td>1</td>\n",
       "      <td>1443.0</td>\n",
       "      <td>0</td>\n",
       "    </tr>\n",
       "    <tr>\n",
       "      <th>4</th>\n",
       "      <td>4</td>\n",
       "      <td>1032.0</td>\n",
       "      <td>71.0</td>\n",
       "      <td>1102.72</td>\n",
       "      <td>480.27</td>\n",
       "      <td>625.30</td>\n",
       "      <td>188.78</td>\n",
       "      <td>130.77</td>\n",
       "      <td>1427.97</td>\n",
       "      <td>28</td>\n",
       "      <td>1</td>\n",
       "      <td>1542.0</td>\n",
       "      <td>0</td>\n",
       "    </tr>\n",
       "    <tr>\n",
       "      <th>...</th>\n",
       "      <td>...</td>\n",
       "      <td>...</td>\n",
       "      <td>...</td>\n",
       "      <td>...</td>\n",
       "      <td>...</td>\n",
       "      <td>...</td>\n",
       "      <td>...</td>\n",
       "      <td>...</td>\n",
       "      <td>...</td>\n",
       "      <td>...</td>\n",
       "      <td>...</td>\n",
       "      <td>...</td>\n",
       "      <td>...</td>\n",
       "    </tr>\n",
       "    <tr>\n",
       "      <th>82</th>\n",
       "      <td>82</td>\n",
       "      <td>626.0</td>\n",
       "      <td>68.0</td>\n",
       "      <td>1771.57</td>\n",
       "      <td>666.99</td>\n",
       "      <td>1117.48</td>\n",
       "      <td>360.21</td>\n",
       "      <td>118.84</td>\n",
       "      <td>2306.82</td>\n",
       "      <td>42</td>\n",
       "      <td>1</td>\n",
       "      <td>1521.0</td>\n",
       "      <td>0</td>\n",
       "    </tr>\n",
       "    <tr>\n",
       "      <th>83</th>\n",
       "      <td>83</td>\n",
       "      <td>1237.0</td>\n",
       "      <td>71.0</td>\n",
       "      <td>1348.53</td>\n",
       "      <td>428.09</td>\n",
       "      <td>924.69</td>\n",
       "      <td>120.02</td>\n",
       "      <td>48.67</td>\n",
       "      <td>1524.78</td>\n",
       "      <td>56</td>\n",
       "      <td>0</td>\n",
       "      <td>1345.0</td>\n",
       "      <td>0</td>\n",
       "    </tr>\n",
       "    <tr>\n",
       "      <th>84</th>\n",
       "      <td>84</td>\n",
       "      <td>634.0</td>\n",
       "      <td>1002.0</td>\n",
       "      <td>1300.00</td>\n",
       "      <td>558.00</td>\n",
       "      <td>724.00</td>\n",
       "      <td>67.00</td>\n",
       "      <td>105.00</td>\n",
       "      <td>1484.26</td>\n",
       "      <td>34</td>\n",
       "      <td>0</td>\n",
       "      <td>2926.0</td>\n",
       "      <td>1</td>\n",
       "    </tr>\n",
       "    <tr>\n",
       "      <th>85</th>\n",
       "      <td>85</td>\n",
       "      <td>112.0</td>\n",
       "      <td>884.0</td>\n",
       "      <td>942.83</td>\n",
       "      <td>378.49</td>\n",
       "      <td>567.06</td>\n",
       "      <td>116.77</td>\n",
       "      <td>31.81</td>\n",
       "      <td>1104.59</td>\n",
       "      <td>33</td>\n",
       "      <td>1</td>\n",
       "      <td>2352.0</td>\n",
       "      <td>1</td>\n",
       "    </tr>\n",
       "    <tr>\n",
       "      <th>86</th>\n",
       "      <td>86</td>\n",
       "      <td>195.0</td>\n",
       "      <td>213.0</td>\n",
       "      <td>724.00</td>\n",
       "      <td>364.00</td>\n",
       "      <td>361.00</td>\n",
       "      <td>18.00</td>\n",
       "      <td>155.00</td>\n",
       "      <td>897.00</td>\n",
       "      <td>19</td>\n",
       "      <td>1</td>\n",
       "      <td>2445.0</td>\n",
       "      <td>1</td>\n",
       "    </tr>\n",
       "  </tbody>\n",
       "</table>\n",
       "<p>86 rows × 13 columns</p>\n",
       "</div>\n",
       "      <button class=\"colab-df-convert\" onclick=\"convertToInteractive('df-566df4df-d88d-4a27-ba89-b4e7c1a581db')\"\n",
       "              title=\"Convert this dataframe to an interactive table.\"\n",
       "              style=\"display:none;\">\n",
       "        \n",
       "  <svg xmlns=\"http://www.w3.org/2000/svg\" height=\"24px\"viewBox=\"0 0 24 24\"\n",
       "       width=\"24px\">\n",
       "    <path d=\"M0 0h24v24H0V0z\" fill=\"none\"/>\n",
       "    <path d=\"M18.56 5.44l.94 2.06.94-2.06 2.06-.94-2.06-.94-.94-2.06-.94 2.06-2.06.94zm-11 1L8.5 8.5l.94-2.06 2.06-.94-2.06-.94L8.5 2.5l-.94 2.06-2.06.94zm10 10l.94 2.06.94-2.06 2.06-.94-2.06-.94-.94-2.06-.94 2.06-2.06.94z\"/><path d=\"M17.41 7.96l-1.37-1.37c-.4-.4-.92-.59-1.43-.59-.52 0-1.04.2-1.43.59L10.3 9.45l-7.72 7.72c-.78.78-.78 2.05 0 2.83L4 21.41c.39.39.9.59 1.41.59.51 0 1.02-.2 1.41-.59l7.78-7.78 2.81-2.81c.8-.78.8-2.07 0-2.86zM5.41 20L4 18.59l7.72-7.72 1.47 1.35L5.41 20z\"/>\n",
       "  </svg>\n",
       "      </button>\n",
       "      \n",
       "  <style>\n",
       "    .colab-df-container {\n",
       "      display:flex;\n",
       "      flex-wrap:wrap;\n",
       "      gap: 12px;\n",
       "    }\n",
       "\n",
       "    .colab-df-convert {\n",
       "      background-color: #E8F0FE;\n",
       "      border: none;\n",
       "      border-radius: 50%;\n",
       "      cursor: pointer;\n",
       "      display: none;\n",
       "      fill: #1967D2;\n",
       "      height: 32px;\n",
       "      padding: 0 0 0 0;\n",
       "      width: 32px;\n",
       "    }\n",
       "\n",
       "    .colab-df-convert:hover {\n",
       "      background-color: #E2EBFA;\n",
       "      box-shadow: 0px 1px 2px rgba(60, 64, 67, 0.3), 0px 1px 3px 1px rgba(60, 64, 67, 0.15);\n",
       "      fill: #174EA6;\n",
       "    }\n",
       "\n",
       "    [theme=dark] .colab-df-convert {\n",
       "      background-color: #3B4455;\n",
       "      fill: #D2E3FC;\n",
       "    }\n",
       "\n",
       "    [theme=dark] .colab-df-convert:hover {\n",
       "      background-color: #434B5C;\n",
       "      box-shadow: 0px 1px 3px 1px rgba(0, 0, 0, 0.15);\n",
       "      filter: drop-shadow(0px 1px 2px rgba(0, 0, 0, 0.3));\n",
       "      fill: #FFFFFF;\n",
       "    }\n",
       "  </style>\n",
       "\n",
       "      <script>\n",
       "        const buttonEl =\n",
       "          document.querySelector('#df-566df4df-d88d-4a27-ba89-b4e7c1a581db button.colab-df-convert');\n",
       "        buttonEl.style.display =\n",
       "          google.colab.kernel.accessAllowed ? 'block' : 'none';\n",
       "\n",
       "        async function convertToInteractive(key) {\n",
       "          const element = document.querySelector('#df-566df4df-d88d-4a27-ba89-b4e7c1a581db');\n",
       "          const dataTable =\n",
       "            await google.colab.kernel.invokeFunction('convertToInteractive',\n",
       "                                                     [key], {});\n",
       "          if (!dataTable) return;\n",
       "\n",
       "          const docLinkHtml = 'Like what you see? Visit the ' +\n",
       "            '<a target=\"_blank\" href=https://colab.research.google.com/notebooks/data_table.ipynb>data table notebook</a>'\n",
       "            + ' to learn more about interactive tables.';\n",
       "          element.innerHTML = '';\n",
       "          dataTable['output_type'] = 'display_data';\n",
       "          await google.colab.output.renderOutput(dataTable, element);\n",
       "          const docLink = document.createElement('div');\n",
       "          docLink.innerHTML = docLinkHtml;\n",
       "          element.appendChild(docLink);\n",
       "        }\n",
       "      </script>\n",
       "    </div>\n",
       "  </div>\n",
       "  "
      ],
      "text/plain": [
       "    id  MO HLADR+ MFI (cells/ul)  Neu CD64+MFI (cells/ul)  CD3+T (cells/ul)  \\\n",
       "0    0                    3556.0                   2489.0            265.19   \n",
       "1    1                    1906.0                    134.0           1442.61   \n",
       "2    2                    1586.0                     71.0           1332.74   \n",
       "3    3                     683.0                     94.0            419.23   \n",
       "4    4                    1032.0                     71.0           1102.72   \n",
       "..  ..                       ...                      ...               ...   \n",
       "82  82                     626.0                     68.0           1771.57   \n",
       "83  83                    1237.0                     71.0           1348.53   \n",
       "84  84                     634.0                   1002.0           1300.00   \n",
       "85  85                     112.0                    884.0            942.83   \n",
       "86  86                     195.0                    213.0            724.00   \n",
       "\n",
       "    CD8+T (cells/ul)  CD4+T (cells/ul)  NK (cells/ul)  CD19+ (cells/ul)  \\\n",
       "0              77.53            176.55           0.00              4.20   \n",
       "1             551.90            876.07         112.10            168.15   \n",
       "2             684.20            655.26         244.95            216.52   \n",
       "3             255.80            162.17          72.05             44.68   \n",
       "4             480.27            625.30         188.78            130.77   \n",
       "..               ...               ...            ...               ...   \n",
       "82            666.99           1117.48         360.21            118.84   \n",
       "83            428.09            924.69         120.02             48.67   \n",
       "84            558.00            724.00          67.00            105.00   \n",
       "85            378.49            567.06         116.77             31.81   \n",
       "86            364.00            361.00          18.00            155.00   \n",
       "\n",
       "    CD45+ (cells/ul)  Age  Sex 0M1F  Mono CD64+MFI (cells/ul)  label  \n",
       "0             307.91   52         0                    7515.0      1  \n",
       "1            1735.48   20         1                    1756.0      0  \n",
       "2            1820.04   28         1                    1311.0      0  \n",
       "3             538.22   55         1                    1443.0      0  \n",
       "4            1427.97   28         1                    1542.0      0  \n",
       "..               ...  ...       ...                       ...    ...  \n",
       "82           2306.82   42         1                    1521.0      0  \n",
       "83           1524.78   56         0                    1345.0      0  \n",
       "84           1484.26   34         0                    2926.0      1  \n",
       "85           1104.59   33         1                    2352.0      1  \n",
       "86            897.00   19         1                    2445.0      1  \n",
       "\n",
       "[86 rows x 13 columns]"
      ]
     },
     "execution_count": 355,
     "metadata": {},
     "output_type": "execute_result"
    }
   ],
   "source": [
    "data.dropna(inplace=True)\n",
    "data"
   ]
  },
  {
   "cell_type": "code",
   "execution_count": 356,
   "metadata": {
    "id": "1cda34b4"
   },
   "outputs": [],
   "source": [
    "x=data[['MO HLADR+ MFI (cells/ul)', 'Neu CD64+MFI (cells/ul)',\n",
    "       'CD3+T (cells/ul)', 'CD8+T (cells/ul)', 'CD4+T (cells/ul)',\n",
    "       'NK (cells/ul)', 'CD19+ (cells/ul)', 'CD45+ (cells/ul)', 'Age',\n",
    "       'Sex 0M1F', 'Mono CD64+MFI (cells/ul)']]\n",
    "\n",
    "\n",
    "y=data['label']\n",
    "\n",
    "#x_test=pd.read_csv(\"test-2.csv\",header=0,usecols=[ 'MO HLADR+ MFI (cells/ul)', 'Neu CD64+MFI (cells/ul)',\n",
    "#       'CD3+T (cells/ul)', 'CD8+T (cells/ul)', 'CD4+T (cells/ul)',\n",
    " #      'NK (cells/ul)', 'CD19+ (cells/ul)', 'CD45+ (cells/ul)', 'Age',\n",
    " #      'Sex 0M1F', 'Mono CD64+MFI (cells/ul)'])\n",
    "\n",
    "\n",
    "\n",
    "x=np.array(x)\n",
    "y=np.array(y)\n",
    "#y_train = to_categorical(y_train)\n",
    "#x_train=scaler.fit_transform(X)\n",
    "#x_test=scaler.fit_transform(x_test)"
   ]
  },
  {
   "cell_type": "code",
   "execution_count": 357,
   "metadata": {
    "id": "ghwttPHCvzu-"
   },
   "outputs": [],
   "source": [
    "real_test=pd.read_csv(\"/content/drive/MyDrive/LmcKaggle/test-2.csv\")\n",
    "x_real=real_test[['MO HLADR+ MFI (cells/ul)', 'Neu CD64+MFI (cells/ul)',\n",
    "       'CD3+T (cells/ul)', 'CD8+T (cells/ul)', 'CD4+T (cells/ul)',\n",
    "       'NK (cells/ul)', 'CD19+ (cells/ul)', 'CD45+ (cells/ul)', 'Age',\n",
    "       'Sex 0M1F', 'Mono CD64+MFI (cells/ul)']]\n",
    "x_real_ar=np.array(x_real)"
   ]
  },
  {
   "cell_type": "code",
   "execution_count": 358,
   "metadata": {
    "id": "spzdJGLSEJd1"
   },
   "outputs": [],
   "source": [
    "from sklearn.model_selection import train_test_split\n",
    "X_train, X_test, y_train, y_test = train_test_split(x, y, test_size=0.2,shuffle=True,random_state=16,stratify=y)"
   ]
  },
  {
   "cell_type": "code",
   "execution_count": 359,
   "metadata": {
    "id": "rZwR2t5SoOSp"
   },
   "outputs": [],
   "source": [
    "X_train=scaler.fit_transform(X_train)\n",
    "X_test=scaler.fit_transform(X_test)\n",
    "#x_real_test=scaler.transform(x_real_ar)"
   ]
  },
  {
   "cell_type": "markdown",
   "metadata": {
    "id": "TnPQn_rz4SiA"
   },
   "source": [
    "Decision Tree"
   ]
  },
  {
   "cell_type": "code",
   "execution_count": 360,
   "metadata": {
    "colab": {
     "base_uri": "https://localhost:8080/"
    },
    "id": "jyafRaybDNVq",
    "outputId": "af0aa2e3-3bce-478a-89c9-d468473f210e"
   },
   "outputs": [
    {
     "data": {
      "text/plain": [
       "0.7777777777777778"
      ]
     },
     "execution_count": 360,
     "metadata": {},
     "output_type": "execute_result"
    }
   ],
   "source": [
    "from sklearn import tree\n",
    "import pydot\n",
    "import numpy as np\n",
    "import random\n",
    "from numpy.random import RandomState\n",
    "from scipy import stats\n",
    "import math\n",
    "import graphviz\n",
    "import pandas as pd\n",
    "\n",
    "clf=tree.DecisionTreeClassifier(criterion=\"gini\")\n",
    "clf.fit(X_train,y_train)\n",
    "clf.score(X_test,y_test)"
   ]
  },
  {
   "cell_type": "markdown",
   "metadata": {
    "id": "pOeU_JuM4VnC"
   },
   "source": [
    "Random Forest"
   ]
  },
  {
   "cell_type": "code",
   "execution_count": 361,
   "metadata": {
    "id": "cEnT5DhgD2yA"
   },
   "outputs": [],
   "source": [
    "from sklearn.ensemble import RandomForestClassifier\n",
    "from sklearn.ensemble import RandomForestRegressor\n",
    "from sklearn.model_selection import RandomizedSearchCV\n",
    "from sklearn.model_selection import GridSearchCV\n",
    "param= {'n_estimators':range(10,50,10),'criterion':['gini','entropy']}\n",
    "rf=RandomForestClassifier()\n",
    "grid_search = GridSearchCV(estimator=rf,param_grid=param,cv=5)\n",
    "grid_search.fit(X_train, y_train)\n",
    "best_param=grid_search.best_params_"
   ]
  },
  {
   "cell_type": "code",
   "execution_count": 361,
   "metadata": {
    "id": "Lk-rIaRiOWVS"
   },
   "outputs": [],
   "source": []
  },
  {
   "cell_type": "code",
   "execution_count": 362,
   "metadata": {
    "colab": {
     "base_uri": "https://localhost:8080/"
    },
    "id": "-A3ffrkbEvsp",
    "outputId": "438cc5c8-8baf-4eba-aad4-e9e66375121b"
   },
   "outputs": [
    {
     "data": {
      "text/plain": [
       "RandomForestClassifier(criterion='entropy', n_estimators=20, oob_score=True)"
      ]
     },
     "execution_count": 362,
     "metadata": {},
     "output_type": "execute_result"
    }
   ],
   "source": [
    "clf_rf=RandomForestClassifier(n_estimators = best_param[\"n_estimators\"],criterion=best_param[\"criterion\"],oob_score=True)\n",
    "clf_rf.fit(X_train,y_train)\n"
   ]
  },
  {
   "cell_type": "code",
   "execution_count": 363,
   "metadata": {
    "colab": {
     "base_uri": "https://localhost:8080/"
    },
    "id": "K-37Q_mxOxQS",
    "outputId": "dd32ebd4-2f3f-46e7-ed72-23a636a06265"
   },
   "outputs": [
    {
     "data": {
      "text/plain": [
       "{'bootstrap': True,\n",
       " 'ccp_alpha': 0.0,\n",
       " 'class_weight': None,\n",
       " 'criterion': 'entropy',\n",
       " 'max_depth': None,\n",
       " 'max_features': 'auto',\n",
       " 'max_leaf_nodes': None,\n",
       " 'max_samples': None,\n",
       " 'min_impurity_decrease': 0.0,\n",
       " 'min_samples_leaf': 1,\n",
       " 'min_samples_split': 2,\n",
       " 'min_weight_fraction_leaf': 0.0,\n",
       " 'n_estimators': 20,\n",
       " 'n_jobs': None,\n",
       " 'oob_score': True,\n",
       " 'random_state': None,\n",
       " 'verbose': 0,\n",
       " 'warm_start': False}"
      ]
     },
     "execution_count": 363,
     "metadata": {},
     "output_type": "execute_result"
    }
   ],
   "source": [
    "clf_rf.get_params()"
   ]
  },
  {
   "cell_type": "code",
   "execution_count": 364,
   "metadata": {
    "colab": {
     "base_uri": "https://localhost:8080/"
    },
    "id": "g0dD-4pvIcp2",
    "outputId": "36febef5-c4a2-4a75-9299-39c854d922d0"
   },
   "outputs": [
    {
     "name": "stdout",
     "output_type": "stream",
     "text": [
      "Train Accuracy: 1.000000\n",
      "Test Accuracy: 0.944444\n"
     ]
    }
   ],
   "source": [
    "print('Train Accuracy: %f' % clf_rf.score(X_train, y_train))\n",
    "print('Test Accuracy: %f' % clf_rf.score(X_test, y_test))\n",
    "\n"
   ]
  },
  {
   "cell_type": "markdown",
   "metadata": {
    "id": "cRkN6jgA4gkV"
   },
   "source": [
    "SVM"
   ]
  },
  {
   "cell_type": "code",
   "execution_count": 365,
   "metadata": {
    "colab": {
     "base_uri": "https://localhost:8080/"
    },
    "id": "FA7UHtzGmIfj",
    "outputId": "c5e02e25-331e-4821-da62-1871d2a198e5"
   },
   "outputs": [
    {
     "name": "stdout",
     "output_type": "stream",
     "text": [
      "Train Accuracy: 0.897059\n",
      "Test Accuracy: 0.944444\n"
     ]
    },
    {
     "data": {
      "text/plain": [
       "{'cv': None,\n",
       " 'error_score': nan,\n",
       " 'estimator': SVC(),\n",
       " 'estimator__C': 1.0,\n",
       " 'estimator__break_ties': False,\n",
       " 'estimator__cache_size': 200,\n",
       " 'estimator__class_weight': None,\n",
       " 'estimator__coef0': 0.0,\n",
       " 'estimator__decision_function_shape': 'ovr',\n",
       " 'estimator__degree': 3,\n",
       " 'estimator__gamma': 'scale',\n",
       " 'estimator__kernel': 'rbf',\n",
       " 'estimator__max_iter': -1,\n",
       " 'estimator__probability': False,\n",
       " 'estimator__random_state': None,\n",
       " 'estimator__shrinking': True,\n",
       " 'estimator__tol': 0.001,\n",
       " 'estimator__verbose': False,\n",
       " 'n_jobs': None,\n",
       " 'param_grid': {'C': [1, 5, 10],\n",
       "  'gamma': ('auto', 'scale'),\n",
       "  'kernel': ('rbf', 'poly'),\n",
       "  'random_state': [None, 1, 5, 10, 20]},\n",
       " 'pre_dispatch': '2*n_jobs',\n",
       " 'refit': True,\n",
       " 'return_train_score': False,\n",
       " 'scoring': None,\n",
       " 'verbose': 0}"
      ]
     },
     "execution_count": 365,
     "metadata": {},
     "output_type": "execute_result"
    }
   ],
   "source": [
    "from sklearn import svm\n",
    "from sklearn.model_selection import GridSearchCV\n",
    "parameters={'kernel':('rbf','poly'),'C':[1,5,10],'random_state':[None,1,5,10,20],'gamma':('auto','scale')}\n",
    "svr = svm.SVC()\n",
    "clf3=GridSearchCV(svr,parameters)\n",
    "clf3.fit(X_train, y_train)\n",
    "print('Train Accuracy: %f' % clf3.score(X_train, y_train))\n",
    "print('Test Accuracy: %f' % clf3.score(X_test, y_test))\n",
    "clf3.get_params()"
   ]
  },
  {
   "cell_type": "code",
   "execution_count": 366,
   "metadata": {
    "colab": {
     "base_uri": "https://localhost:8080/"
    },
    "id": "z7T3gCbXFNZN",
    "outputId": "fbffd832-cc60-4803-cf27-41b2619f4a9b"
   },
   "outputs": [
    {
     "name": "stdout",
     "output_type": "stream",
     "text": [
      "Train Accuracy: 0.838235\n",
      "Test Accuracy: 0.888889\n"
     ]
    }
   ],
   "source": [
    "from sklearn import svm\n",
    "clf3_poly = svm.SVC(kernel ='poly')\n",
    "clf3_poly.fit(X_train, y_train)\n",
    "print('Train Accuracy: %f' % clf3_poly.score(X_train, y_train))\n",
    "print('Test Accuracy: %f' % clf3_poly.score(X_test, y_test))"
   ]
  },
  {
   "cell_type": "markdown",
   "metadata": {
    "id": "0FIdXXTS51B3"
   },
   "source": [
    "Perceptron"
   ]
  },
  {
   "cell_type": "code",
   "execution_count": 367,
   "metadata": {
    "colab": {
     "base_uri": "https://localhost:8080/"
    },
    "id": "mUX7eb5u54HC",
    "outputId": "1c92418d-5160-457f-c834-026f2e361714"
   },
   "outputs": [
    {
     "name": "stdout",
     "output_type": "stream",
     "text": [
      "Train Accuracy: 0.882353\n",
      "Test Accuracy: 0.888889\n"
     ]
    }
   ],
   "source": [
    "from sklearn.linear_model import Perceptron\n",
    "\n",
    "ppn = Perceptron(max_iter=50, eta0=0.1)\n",
    "ppn.fit(X_train, y_train)\n",
    "\n",
    "print('Train Accuracy: %f' % ppn.score(X_train, y_train))\n",
    "print('Test Accuracy: %f' % ppn.score(X_test, y_test))"
   ]
  },
  {
   "cell_type": "code",
   "execution_count": 368,
   "metadata": {
    "colab": {
     "base_uri": "https://localhost:8080/"
    },
    "id": "d7a38875",
    "outputId": "f04b448e-89fe-4e78-eafe-1ec2d40bef3e"
   },
   "outputs": [
    {
     "name": "stdout",
     "output_type": "stream",
     "text": [
      "Epoch 1/50\n"
     ]
    },
    {
     "name": "stderr",
     "output_type": "stream",
     "text": [
      "/usr/local/lib/python3.7/dist-packages/keras/optimizer_v2/adam.py:105: UserWarning: The `lr` argument is deprecated, use `learning_rate` instead.\n",
      "  super(Adam, self).__init__(name, **kwargs)\n"
     ]
    },
    {
     "name": "stdout",
     "output_type": "stream",
     "text": [
      "3/3 - 1s - loss: 0.7897 - acc: 0.4412 - 755ms/epoch - 252ms/step\n",
      "Epoch 2/50\n",
      "3/3 - 0s - loss: 0.6642 - acc: 0.6176 - 15ms/epoch - 5ms/step\n",
      "Epoch 3/50\n",
      "3/3 - 0s - loss: 0.6622 - acc: 0.6471 - 14ms/epoch - 5ms/step\n",
      "Epoch 4/50\n",
      "3/3 - 0s - loss: 0.7343 - acc: 0.6029 - 14ms/epoch - 5ms/step\n",
      "Epoch 5/50\n",
      "3/3 - 0s - loss: 0.6160 - acc: 0.6029 - 13ms/epoch - 4ms/step\n",
      "Epoch 6/50\n",
      "3/3 - 0s - loss: 0.5589 - acc: 0.7059 - 10ms/epoch - 3ms/step\n",
      "Epoch 7/50\n",
      "3/3 - 0s - loss: 0.6204 - acc: 0.6324 - 16ms/epoch - 5ms/step\n",
      "Epoch 8/50\n",
      "3/3 - 0s - loss: 0.5365 - acc: 0.6912 - 11ms/epoch - 4ms/step\n",
      "Epoch 9/50\n",
      "3/3 - 0s - loss: 0.5699 - acc: 0.6912 - 16ms/epoch - 5ms/step\n",
      "Epoch 10/50\n",
      "3/3 - 0s - loss: 0.5168 - acc: 0.7794 - 13ms/epoch - 4ms/step\n",
      "Epoch 11/50\n",
      "3/3 - 0s - loss: 0.5531 - acc: 0.7206 - 11ms/epoch - 4ms/step\n",
      "Epoch 12/50\n",
      "3/3 - 0s - loss: 0.5286 - acc: 0.7206 - 10ms/epoch - 3ms/step\n",
      "Epoch 13/50\n",
      "3/3 - 0s - loss: 0.4692 - acc: 0.7794 - 13ms/epoch - 4ms/step\n",
      "Epoch 14/50\n",
      "3/3 - 0s - loss: 0.4180 - acc: 0.8088 - 17ms/epoch - 6ms/step\n",
      "Epoch 15/50\n",
      "3/3 - 0s - loss: 0.4552 - acc: 0.8088 - 12ms/epoch - 4ms/step\n",
      "Epoch 16/50\n",
      "3/3 - 0s - loss: 0.4996 - acc: 0.7353 - 10ms/epoch - 3ms/step\n",
      "Epoch 17/50\n",
      "3/3 - 0s - loss: 0.3814 - acc: 0.8529 - 12ms/epoch - 4ms/step\n",
      "Epoch 18/50\n",
      "3/3 - 0s - loss: 0.4090 - acc: 0.8088 - 12ms/epoch - 4ms/step\n",
      "Epoch 19/50\n",
      "3/3 - 0s - loss: 0.4004 - acc: 0.8382 - 10ms/epoch - 3ms/step\n",
      "Epoch 20/50\n",
      "3/3 - 0s - loss: 0.4413 - acc: 0.7353 - 14ms/epoch - 5ms/step\n",
      "Epoch 21/50\n",
      "3/3 - 0s - loss: 0.3998 - acc: 0.8382 - 13ms/epoch - 4ms/step\n",
      "Epoch 22/50\n",
      "3/3 - 0s - loss: 0.3553 - acc: 0.8529 - 12ms/epoch - 4ms/step\n",
      "Epoch 23/50\n",
      "3/3 - 0s - loss: 0.3593 - acc: 0.8676 - 11ms/epoch - 4ms/step\n",
      "Epoch 24/50\n",
      "3/3 - 0s - loss: 0.3639 - acc: 0.8676 - 11ms/epoch - 4ms/step\n",
      "Epoch 25/50\n",
      "3/3 - 0s - loss: 0.2890 - acc: 0.9265 - 11ms/epoch - 4ms/step\n",
      "Epoch 26/50\n",
      "3/3 - 0s - loss: 0.3226 - acc: 0.9118 - 13ms/epoch - 4ms/step\n",
      "Epoch 27/50\n",
      "3/3 - 0s - loss: 0.3132 - acc: 0.8824 - 14ms/epoch - 5ms/step\n",
      "Epoch 28/50\n",
      "3/3 - 0s - loss: 0.3423 - acc: 0.8235 - 13ms/epoch - 4ms/step\n",
      "Epoch 29/50\n",
      "3/3 - 0s - loss: 0.3130 - acc: 0.7941 - 12ms/epoch - 4ms/step\n",
      "Epoch 30/50\n",
      "3/3 - 0s - loss: 0.3093 - acc: 0.9118 - 11ms/epoch - 4ms/step\n",
      "Epoch 31/50\n",
      "3/3 - 0s - loss: 0.3104 - acc: 0.8971 - 12ms/epoch - 4ms/step\n",
      "Epoch 32/50\n",
      "3/3 - 0s - loss: 0.2679 - acc: 0.9412 - 11ms/epoch - 4ms/step\n",
      "Epoch 33/50\n",
      "3/3 - 0s - loss: 0.2864 - acc: 0.9118 - 12ms/epoch - 4ms/step\n",
      "Epoch 34/50\n",
      "3/3 - 0s - loss: 0.2497 - acc: 0.9412 - 12ms/epoch - 4ms/step\n",
      "Epoch 35/50\n",
      "3/3 - 0s - loss: 0.2925 - acc: 0.9412 - 13ms/epoch - 4ms/step\n",
      "Epoch 36/50\n",
      "3/3 - 0s - loss: 0.2874 - acc: 0.8676 - 10ms/epoch - 3ms/step\n",
      "Epoch 37/50\n",
      "3/3 - 0s - loss: 0.2678 - acc: 0.9118 - 12ms/epoch - 4ms/step\n",
      "Epoch 38/50\n",
      "3/3 - 0s - loss: 0.2755 - acc: 0.8971 - 15ms/epoch - 5ms/step\n",
      "Epoch 39/50\n",
      "3/3 - 0s - loss: 0.2113 - acc: 0.9706 - 14ms/epoch - 5ms/step\n",
      "Epoch 40/50\n",
      "3/3 - 0s - loss: 0.2355 - acc: 0.9265 - 12ms/epoch - 4ms/step\n",
      "Epoch 41/50\n",
      "3/3 - 0s - loss: 0.2611 - acc: 0.8529 - 14ms/epoch - 5ms/step\n",
      "Epoch 42/50\n",
      "3/3 - 0s - loss: 0.2556 - acc: 0.9118 - 11ms/epoch - 4ms/step\n",
      "Epoch 43/50\n",
      "3/3 - 0s - loss: 0.2437 - acc: 0.9559 - 12ms/epoch - 4ms/step\n",
      "Epoch 44/50\n",
      "3/3 - 0s - loss: 0.2605 - acc: 0.9265 - 10ms/epoch - 3ms/step\n",
      "Epoch 45/50\n",
      "3/3 - 0s - loss: 0.2333 - acc: 0.9265 - 11ms/epoch - 4ms/step\n",
      "Epoch 46/50\n",
      "3/3 - 0s - loss: 0.2079 - acc: 0.9706 - 11ms/epoch - 4ms/step\n",
      "Epoch 47/50\n",
      "3/3 - 0s - loss: 0.1940 - acc: 0.9412 - 18ms/epoch - 6ms/step\n",
      "Epoch 48/50\n",
      "3/3 - 0s - loss: 0.1794 - acc: 0.9706 - 11ms/epoch - 4ms/step\n",
      "Epoch 49/50\n",
      "3/3 - 0s - loss: 0.1769 - acc: 0.9706 - 12ms/epoch - 4ms/step\n",
      "Epoch 50/50\n",
      "3/3 - 0s - loss: 0.2030 - acc: 0.9265 - 12ms/epoch - 4ms/step\n",
      "3/3 [==============================] - 0s 4ms/step - loss: 0.3467 - acc: 0.8971\n",
      "[0.3467384874820709, 0.8970588445663452]\n",
      "Model: \"sequential_26\"\n",
      "_________________________________________________________________\n",
      " Layer (type)                Output Shape              Param #   \n",
      "=================================================================\n",
      " dense_91 (Dense)            (None, 32)                384       \n",
      "                                                                 \n",
      " dense_92 (Dense)            (None, 32)                1056      \n",
      "                                                                 \n",
      " dense_93 (Dense)            (None, 32)                1056      \n",
      "                                                                 \n",
      " dropout_26 (Dropout)        (None, 32)                0         \n",
      "                                                                 \n",
      " batch_normalization_26 (Bat  (None, 32)               128       \n",
      " chNormalization)                                                \n",
      "                                                                 \n",
      " dense_94 (Dense)            (None, 1)                 33        \n",
      "                                                                 \n",
      "=================================================================\n",
      "Total params: 2,657\n",
      "Trainable params: 2,593\n",
      "Non-trainable params: 64\n",
      "_________________________________________________________________\n"
     ]
    }
   ],
   "source": [
    "import tensorflow as tf\n",
    "\n",
    "model = models.Sequential()\n",
    "model.add(layers.Dense(32,activation='relu'))\n",
    "model.add(layers.Dense(32, activation='relu'))\n",
    "model.add(layers.Dense(32, activation='relu'))\n",
    "model.add(layers.Dropout(0.5))\n",
    "model.add(layers.BatchNormalization())\n",
    "model.add(layers.Dense(1, activation='sigmoid')) #replace k with the corresponding value\n",
    "\n",
    "model.compile(loss='binary_crossentropy',optimizer=tf.keras.optimizers.Adam(lr=0.001),\n",
    "                  metrics=['acc'])\n",
    "\n",
    "\n",
    "history = model.fit(X_train,y_train,batch_size=25,epochs=50,verbose=2)\n",
    "scores=model.evaluate(X_train,y_train)\n",
    "print(scores)\n",
    "model.summary()"
   ]
  },
  {
   "cell_type": "code",
   "execution_count": 369,
   "metadata": {
    "colab": {
     "base_uri": "https://localhost:8080/"
    },
    "id": "FrWeqL4MeYH_",
    "outputId": "2a4b2d2a-186f-4dc1-e51d-653cd5b5c3f0"
   },
   "outputs": [
    {
     "data": {
      "text/plain": [
       "(68, 11)"
      ]
     },
     "execution_count": 369,
     "metadata": {},
     "output_type": "execute_result"
    }
   ],
   "source": [
    "X_train.shape"
   ]
  },
  {
   "cell_type": "code",
   "execution_count": 370,
   "metadata": {
    "colab": {
     "base_uri": "https://localhost:8080/"
    },
    "id": "TvjW9-HeCOeE",
    "outputId": "f704a5d9-1cc5-4f87-d2b7-3ec9a84029c5"
   },
   "outputs": [
    {
     "name": "stdout",
     "output_type": "stream",
     "text": [
      "Epoch 1/30\n"
     ]
    },
    {
     "name": "stderr",
     "output_type": "stream",
     "text": [
      "/usr/local/lib/python3.7/dist-packages/keras/optimizer_v2/rmsprop.py:130: UserWarning: The `lr` argument is deprecated, use `learning_rate` instead.\n",
      "  super(RMSprop, self).__init__(name, **kwargs)\n"
     ]
    },
    {
     "name": "stdout",
     "output_type": "stream",
     "text": [
      "4/4 - 1s - loss: 0.7663 - acc: 0.4853 - 849ms/epoch - 212ms/step\n",
      "Epoch 2/30\n",
      "4/4 - 0s - loss: 0.3876 - acc: 0.8529 - 15ms/epoch - 4ms/step\n",
      "Epoch 3/30\n",
      "4/4 - 0s - loss: 0.3511 - acc: 0.8382 - 17ms/epoch - 4ms/step\n",
      "Epoch 4/30\n",
      "4/4 - 0s - loss: 0.3058 - acc: 0.8676 - 16ms/epoch - 4ms/step\n",
      "Epoch 5/30\n",
      "4/4 - 0s - loss: 0.2834 - acc: 0.8529 - 18ms/epoch - 5ms/step\n",
      "Epoch 6/30\n",
      "4/4 - 0s - loss: 0.2581 - acc: 0.8971 - 15ms/epoch - 4ms/step\n",
      "Epoch 7/30\n",
      "4/4 - 0s - loss: 0.2497 - acc: 0.8676 - 21ms/epoch - 5ms/step\n",
      "Epoch 8/30\n",
      "4/4 - 0s - loss: 0.1950 - acc: 0.9265 - 23ms/epoch - 6ms/step\n",
      "Epoch 9/30\n",
      "4/4 - 0s - loss: 0.1841 - acc: 0.9412 - 15ms/epoch - 4ms/step\n",
      "Epoch 10/30\n",
      "4/4 - 0s - loss: 0.1366 - acc: 0.9706 - 17ms/epoch - 4ms/step\n",
      "Epoch 11/30\n",
      "4/4 - 0s - loss: 0.1294 - acc: 0.9559 - 21ms/epoch - 5ms/step\n",
      "Epoch 12/30\n",
      "4/4 - 0s - loss: 0.1058 - acc: 0.9853 - 19ms/epoch - 5ms/step\n",
      "Epoch 13/30\n",
      "4/4 - 0s - loss: 0.0894 - acc: 0.9853 - 17ms/epoch - 4ms/step\n",
      "Epoch 14/30\n",
      "4/4 - 0s - loss: 0.1182 - acc: 0.9853 - 19ms/epoch - 5ms/step\n",
      "Epoch 15/30\n",
      "4/4 - 0s - loss: 0.1056 - acc: 0.9853 - 19ms/epoch - 5ms/step\n",
      "Epoch 16/30\n",
      "4/4 - 0s - loss: 0.1060 - acc: 0.9706 - 15ms/epoch - 4ms/step\n",
      "Epoch 17/30\n",
      "4/4 - 0s - loss: 0.0907 - acc: 0.9853 - 18ms/epoch - 5ms/step\n",
      "Epoch 18/30\n",
      "4/4 - 0s - loss: 0.0937 - acc: 0.9706 - 17ms/epoch - 4ms/step\n",
      "Epoch 19/30\n",
      "4/4 - 0s - loss: 0.0576 - acc: 1.0000 - 23ms/epoch - 6ms/step\n",
      "Epoch 20/30\n",
      "4/4 - 0s - loss: 0.0510 - acc: 0.9853 - 18ms/epoch - 4ms/step\n",
      "Epoch 21/30\n",
      "4/4 - 0s - loss: 0.0580 - acc: 0.9853 - 19ms/epoch - 5ms/step\n",
      "Epoch 22/30\n",
      "4/4 - 0s - loss: 0.1008 - acc: 0.9559 - 27ms/epoch - 7ms/step\n",
      "Epoch 23/30\n",
      "4/4 - 0s - loss: 0.0460 - acc: 1.0000 - 18ms/epoch - 4ms/step\n",
      "Epoch 24/30\n",
      "4/4 - 0s - loss: 0.0456 - acc: 1.0000 - 16ms/epoch - 4ms/step\n",
      "Epoch 25/30\n",
      "4/4 - 0s - loss: 0.0253 - acc: 1.0000 - 15ms/epoch - 4ms/step\n",
      "Epoch 26/30\n",
      "4/4 - 0s - loss: 0.0736 - acc: 0.9853 - 16ms/epoch - 4ms/step\n",
      "Epoch 27/30\n",
      "4/4 - 0s - loss: 0.0643 - acc: 0.9853 - 16ms/epoch - 4ms/step\n",
      "Epoch 28/30\n",
      "4/4 - 0s - loss: 0.0437 - acc: 0.9853 - 17ms/epoch - 4ms/step\n",
      "Epoch 29/30\n",
      "4/4 - 0s - loss: 0.0773 - acc: 0.9853 - 18ms/epoch - 5ms/step\n",
      "Epoch 30/30\n",
      "4/4 - 0s - loss: 0.0302 - acc: 0.9853 - 17ms/epoch - 4ms/step\n",
      "18/18 [==============================] - 0s 2ms/step - loss: 0.3831 - acc: 0.9444\n",
      "[0.38312041759490967, 0.9444444179534912]\n",
      "Model: \"sequential_27\"\n",
      "_________________________________________________________________\n",
      " Layer (type)                Output Shape              Param #   \n",
      "=================================================================\n",
      " dense_95 (Dense)            (None, 256)               3072      \n",
      "                                                                 \n",
      " dense_96 (Dense)            (None, 256)               65792     \n",
      "                                                                 \n",
      " dropout_27 (Dropout)        (None, 256)               0         \n",
      "                                                                 \n",
      " batch_normalization_27 (Bat  (None, 256)              1024      \n",
      " chNormalization)                                                \n",
      "                                                                 \n",
      " dense_97 (Dense)            (None, 1)                 257       \n",
      "                                                                 \n",
      "=================================================================\n",
      "Total params: 70,145\n",
      "Trainable params: 69,633\n",
      "Non-trainable params: 512\n",
      "_________________________________________________________________\n"
     ]
    }
   ],
   "source": [
    "import tensorflow as tf\n",
    "\n",
    "modelrm = models.Sequential()\n",
    "modelrm.add(layers.Dense(256, activation='relu'))\n",
    "modelrm.add(layers.Dense(256, activation='relu'))\n",
    "modelrm.add(layers.Dropout(0.5))\n",
    "modelrm.add(layers.BatchNormalization())\n",
    "modelrm.add(layers.Dense(1, activation='sigmoid')) #replace k with the corresponding value\n",
    "\n",
    "modelrm.compile(loss='binary_crossentropy',optimizer=tf.keras.optimizers.RMSprop(lr=0.001),\n",
    "                  metrics=['acc'])\n",
    "\n",
    "\n",
    "history = modelrm.fit(X_train,y_train,batch_size=17,epochs=30,verbose=2)\n",
    "scores=modelrm.evaluate(X_test,y_test,batch_size=1)\n",
    "print(scores)\n",
    "modelrm.summary()"
   ]
  },
  {
   "cell_type": "code",
   "execution_count": 371,
   "metadata": {
    "colab": {
     "base_uri": "https://localhost:8080/"
    },
    "id": "3XcWClPKFZUz",
    "outputId": "a4a758d8-358e-4daa-ddb3-5f820c62b283"
   },
   "outputs": [
    {
     "name": "stdout",
     "output_type": "stream",
     "text": [
      "18/18 [==============================] - 0s 2ms/step - loss: 0.3831 - acc: 0.9444\n"
     ]
    },
    {
     "data": {
      "text/plain": [
       "[0.38312041759490967, 0.9444444179534912]"
      ]
     },
     "execution_count": 371,
     "metadata": {},
     "output_type": "execute_result"
    }
   ],
   "source": [
    "modelrm.evaluate(X_test,y_test,batch_size=1)"
   ]
  },
  {
   "cell_type": "code",
   "execution_count": 372,
   "metadata": {
    "id": "WmtF_Dv00btl"
   },
   "outputs": [],
   "source": [
    "X_realtest=scaler.fit_transform(x_real_ar)"
   ]
  },
  {
   "cell_type": "code",
   "execution_count": 376,
   "metadata": {
    "id": "Iy1ucwHJYR76"
   },
   "outputs": [],
   "source": [
    "\n",
    "test1=clf_rf.predict(X_realtest)\n",
    "test1df=pd.DataFrame(test1)\n",
    "test1df.to_csv(\"testrf_new.csv\",header=['label'])\n"
   ]
  },
  {
   "cell_type": "code",
   "execution_count": 374,
   "metadata": {
    "id": "8_XRgCB6mXFX"
   },
   "outputs": [],
   "source": [
    "svm=clf3.predict(X_realtest)\n",
    "test1svm=pd.DataFrame(svm)\n",
    "test1svm.to_csv(\"testsvm.csv\",header=['label'])"
   ]
  },
  {
   "cell_type": "code",
   "execution_count": null,
   "metadata": {
    "id": "0f22b374"
   },
   "outputs": [],
   "source": []
  }
 ],
 "metadata": {
  "colab": {
   "collapsed_sections": [],
   "name": "Lmc.ipynb",
   "provenance": []
  },
  "kernelspec": {
   "display_name": "Python 3",
   "language": "python",
   "name": "python3"
  },
  "language_info": {
   "codemirror_mode": {
    "name": "ipython",
    "version": 3
   },
   "file_extension": ".py",
   "mimetype": "text/x-python",
   "name": "python",
   "nbconvert_exporter": "python",
   "pygments_lexer": "ipython3",
   "version": "3.7.0"
  }
 },
 "nbformat": 4,
 "nbformat_minor": 5
}
